{
 "cells": [
  {
   "attachments": {},
   "cell_type": "markdown",
   "metadata": {},
   "source": [
    "# Simple Scan Line Beamforming Example\n",
    "`vbeam` supports multiple backends _(at the time of writing they are: `\"numpy\"` ad `\"jax\"`)_. `\"numpy\"` is active by default, but it runs severly slow as its implementation relies on Python for-loops."
   ]
  },
  {
   "attachments": {},
   "cell_type": "markdown",
   "metadata": {},
   "source": [
    "# Importing Example Data\n",
    "We can import data using the `vbeam.data_importers.import_pyuff` function. It takes the data in PyUff format and a `Scan` object and returns (among a few other things) a beamformer function."
   ]
  },
  {
   "cell_type": "code",
   "execution_count": null,
   "metadata": {},
   "outputs": [],
   "source": [
    "import numpy as np\n",
    "\n",
    "from pyuff_ustb import Uff\n",
    "from vbeam.beamformers import get_beamformer\n",
    "from vbeam.data_importers import import_pyuff\n",
    "from vbeam.scan import sector_scan, Scanlines\n",
    "from vbeam.util.download import cached_download\n",
    "\n",
    "# Download and read the channel data\n",
    "data_url = \"http://www.ustb.no/datasets/Verasonics_P2-4_parasternal_long_small.uff\"\n",
    "uff = Uff(cached_download(data_url))\n",
    "channel_data = uff.read(\"/channel_data\")\n",
    "\n",
    "# Import the data\n",
    "setup = import_pyuff(channel_data)\n",
    "\n",
    "# Define and set a custom sector scan\n",
    "scan_angles = np.array([wave.source.azimuth for wave in channel_data.sequence])\n",
    "scan_depths = np.linspace(0e-3, 110e-3, 512)\n",
    "setup.scan = sector_scan(scan_angles, scan_depths)\n",
    "# Using Scanlines points optimizer makes the beamformer faster because it only has to \n",
    "# beamform one column (scanline) per transmitted wave\n",
    "setup.points_optimizer = Scanlines()\n",
    "\n",
    "# Get a default beamformer\n",
    "beamformer = get_beamformer(setup)"
   ]
  },
  {
   "attachments": {},
   "cell_type": "markdown",
   "metadata": {},
   "source": [
    "# Setting Up the Beamformer Instance\n",
    "The `Beamformer` object that was created when we imported the data can be used as just a regular function. Since all the needed data was provided in this example data we can call it without any arguments.\n",
    "\n",
    "But first we shall prepare the beamformer by JIT-compiling it. JIT-compiling a function often makes it run much faster."
   ]
  },
  {
   "cell_type": "code",
   "execution_count": null,
   "metadata": {},
   "outputs": [],
   "source": [
    "import jax\n",
    "\n",
    "jitted_beamformer = jax.jit(beamformer)\n"
   ]
  },
  {
   "attachments": {},
   "cell_type": "markdown",
   "metadata": {},
   "source": [
    "# How Fast is it?\n",
    "With JAX we call `.block_until_ready()` on the result to ensure that the job has actually finished (if running on the GPU)."
   ]
  },
  {
   "cell_type": "code",
   "execution_count": null,
   "metadata": {},
   "outputs": [],
   "source": [
    "import time\n",
    "\n",
    "start_time = time.perf_counter()\n",
    "result = jitted_beamformer().block_until_ready()\n",
    "elapsed_time = time.perf_counter() - start_time\n",
    "print(f\"{elapsed_time:.2f} seconds\")\n"
   ]
  },
  {
   "attachments": {},
   "cell_type": "markdown",
   "metadata": {},
   "source": [
    "# How Fast is it a Thousand Times?"
   ]
  },
  {
   "cell_type": "code",
   "execution_count": null,
   "metadata": {},
   "outputs": [],
   "source": [
    "num_times = 1000\n",
    "start_time = time.perf_counter()\n",
    "# We can start 1000 jobs asynchronously\n",
    "results = [jitted_beamformer() for _ in range(num_times)]\n",
    "# Let's wait for them to finish on the GPU\n",
    "[r.block_until_ready() for r in results]\n",
    "elapsed_time = time.perf_counter() - start_time\n",
    "print(f\"{elapsed_time:.2f} seconds\")\n"
   ]
  },
  {
   "attachments": {},
   "cell_type": "markdown",
   "metadata": {},
   "source": [
    "_Huh._\n",
    "\n",
    "It seems like it is faster to run it a thousand times than just a single time?\n",
    "\n",
    "No mystery: it is because the first time we call `jitted_beamformer` is when JIT-compilation occurs. This is when the code is optimized to run much faster, but it can take a while.\n",
    "\n",
    "# Plot The Results\n",
    "Let's plot the result to verify that it actually did something reasonable:"
   ]
  },
  {
   "cell_type": "code",
   "execution_count": null,
   "metadata": {},
   "outputs": [],
   "source": [
    "import matplotlib.pyplot as plt\n",
    "\n",
    "# The example data consists of 5 frames — let's plot the first one:\n",
    "first_frame = result[0]\n",
    "# We transpose the image by calling `first_frame.T` because matplotlib uses a different\n",
    "# convention for x- and y-axis. It expectes the shape of an image to be (height, width)\n",
    "# instead of (width, height), the latter being the convention in vbeam.\n",
    "plt.imshow(first_frame.T, aspect=\"auto\")\n"
   ]
  }
 ],
 "metadata": {
  "kernelspec": {
   "display_name": "Python 3.9.13 ('vbeam')",
   "language": "python",
   "name": "python3"
  },
  "language_info": {
   "codemirror_mode": {
    "name": "ipython",
    "version": 3
   },
   "file_extension": ".py",
   "mimetype": "text/x-python",
   "name": "python",
   "nbconvert_exporter": "python",
   "pygments_lexer": "ipython3",
   "version": "3.9.16"
  },
  "orig_nbformat": 4,
  "vscode": {
   "interpreter": {
    "hash": "f78124f24a546ecac1e62ce031484c66526a03554a1c77a8c535ffc422a71644"
   }
  }
 },
 "nbformat": 4,
 "nbformat_minor": 2
}
