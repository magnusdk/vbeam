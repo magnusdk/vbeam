{
 "cells": [
  {
   "cell_type": "code",
   "execution_count": null,
   "metadata": {},
   "outputs": [],
   "source": [
    "import matplotlib.pyplot as plt\n",
    "import numpy as np\n",
    "\n",
    "from vbeam.scan import linear_scan\n",
    "from vbeam.util.geometry.v2 import Line, distance\n",
    "\n",
    "scan = linear_scan(np.linspace(-2, 2, 100), np.linspace(-0.5, 3.5, 100))\n",
    "\n",
    "array_left = np.array([-1, 0])\n",
    "array_right = np.array([1, 0])\n",
    "source = np.array([0.8, 1])"
   ]
  },
  {
   "cell_type": "code",
   "execution_count": null,
   "metadata": {},
   "outputs": [],
   "source": [
    "from spekk import Spec\n",
    "\n",
    "from vbeam.apodization import FocusedTransmitApodization, Tukey75\n",
    "from vbeam.apodization.util import calculate_apodization_for_spec\n",
    "from vbeam.core import ElementGeometry, WaveData\n",
    "\n",
    "\n",
    "# Let's put plotting array and source into a function because we'll use it a lot\n",
    "def plot_array_and_source(ax, array_left, array_right, source):\n",
    "    xs = np.array([array_left[0], array_right[0]])\n",
    "    zs = np.array([array_left[1], array_right[1]])\n",
    "    ax.plot(xs, zs, color=\"blue\")\n",
    "    ax.scatter(xs, zs, color=\"blue\")\n",
    "    ax.text(np.mean(xs), np.max(zs), \"Array\", ha=\"center\", va=\"bottom\", color=\"blue\")\n",
    "    ax.scatter(*source, color=\"red\")\n",
    "    ax.text(*source - 0.05, \"Source\", ha=\"left\", va=\"bottom\", color=\"red\")\n",
    "\n",
    "\n",
    "apodization = FocusedTransmitApodization(2, 0.5, Tukey75())\n",
    "sender = receiver = ElementGeometry(np.array([0, 0, 0]))\n",
    "wave_data = WaveData(np.array([source[0], 0, source[1]]))\n",
    "spec = Spec(\n",
    "    sender=(), receiver=(), point_position=(\"points\",), wave_data=(), apodization=()\n",
    ")\n",
    "apodization_values = calculate_apodization_for_spec(\n",
    "    apodization, sender, scan, receiver, wave_data, spec\n",
    ")\n",
    "\n",
    "plt.imshow(apodization_values.T, extent=scan.bounds, origin=\"lower\", cmap=\"gray\")\n",
    "plot_array_and_source(plt, array_left, array_right, source)\n",
    "plt.xlim([-2, 2])\n",
    "plt.ylim([-0.5, 3.5])\n",
    "plt.gca().invert_yaxis()\n",
    "plt.gca().set_aspect(\"equal\")\n",
    "plt.tight_layout()"
   ]
  },
  {
   "attachments": {},
   "cell_type": "markdown",
   "metadata": {},
   "source": [
    "We start by drawing a line from each side of the array that passes through the source point. The `Line` object has a method called `signed_distance` (SDF) which can be used to calculate the (signed) distance from a point to the nearest point on the line, where the sign indicate whether the point is on the \"left side\" or the \"right side\" of the line.\n",
    "\n",
    "Let's calculate the signed distance to every point in the scan for each of the lines."
   ]
  },
  {
   "cell_type": "code",
   "execution_count": null,
   "metadata": {},
   "outputs": [],
   "source": [
    "line_left = Line.passing_through(array_left, source)\n",
    "line_right = Line.passing_through(array_right, source)\n",
    "\n",
    "points = scan.get_point_cube()[..., [0, 2]]  # Scans are 3D, but we only need x and z\n",
    "line_left_sd = line_left.signed_distance(points)\n",
    "line_right_sd = line_right.signed_distance(points)\n"
   ]
  },
  {
   "attachments": {},
   "cell_type": "markdown",
   "metadata": {},
   "source": [
    "Let's plot it below. Notice that the distance is 0 on the line that goes from the array and through the source."
   ]
  },
  {
   "cell_type": "code",
   "execution_count": null,
   "metadata": {},
   "outputs": [],
   "source": [
    "fig, ax = plt.subplots(ncols=2, figsize=(10, 5))\n",
    "im1 = ax[0].imshow(line_left_sd.T, extent=scan.bounds, origin=\"lower\", cmap=\"gray\")\n",
    "im2 = ax[1].imshow(line_right_sd.T, extent=scan.bounds, origin=\"lower\", cmap=\"gray\")\n",
    "plot_array_and_source(ax[0], array_left, array_right, source)\n",
    "plot_array_and_source(ax[1], array_left, array_right, source)\n",
    "ax[0].invert_yaxis()\n",
    "ax[1].invert_yaxis()\n",
    "fig.colorbar(im1, ax=ax[0], label=\"Distance to line\", fraction=0.046, pad=0.04)\n",
    "fig.colorbar(im2, ax=ax[1], label=\"Distance to line\", fraction=0.046, pad=0.04)\n",
    "fig.tight_layout()"
   ]
  },
  {
   "attachments": {},
   "cell_type": "markdown",
   "metadata": {},
   "source": [
    "This may be easier to see if we take the absolute value of the signed distance; which is just the distance."
   ]
  },
  {
   "cell_type": "code",
   "execution_count": null,
   "metadata": {},
   "outputs": [],
   "source": [
    "fig, ax = plt.subplots(ncols=2, figsize=(10, 5))\n",
    "im1 = ax[0].imshow(np.abs(line_left_sd).T, extent=scan.bounds, origin=\"lower\", cmap=\"gray\")\n",
    "im2 = ax[1].imshow(np.abs(line_right_sd).T, extent=scan.bounds, origin=\"lower\", cmap=\"gray\")\n",
    "plot_array_and_source(ax[0], array_left, array_right, source)\n",
    "plot_array_and_source(ax[1], array_left, array_right, source)\n",
    "ax[0].invert_yaxis()\n",
    "ax[1].invert_yaxis()\n",
    "fig.colorbar(im1, ax=ax[0], label=\"Distance to line\", fraction=0.046, pad=0.04)\n",
    "fig.colorbar(im2, ax=ax[1], label=\"Distance to line\", fraction=0.046, pad=0.04)\n",
    "fig.tight_layout()\n"
   ]
  },
  {
   "attachments": {},
   "cell_type": "markdown",
   "metadata": {},
   "source": [
    "Notice that the signed distance of the lines are negative for the points on the left side of the lines and positive on the right side. We can use this to our advantage.\n",
    "\n",
    "Our goal is to create an hourglass shape defined as the area between the lines. The upper half of this hourglass correspond to all the points where the signed distance to the left line is positive and the signed distance to the right line is negative."
   ]
  },
  {
   "cell_type": "code",
   "execution_count": null,
   "metadata": {},
   "outputs": [],
   "source": [
    "line_left_positive = line_left_sd >= 0\n",
    "line_right_negative = line_right_sd <= 0\n",
    "# The upper part of the hourglass is where the left line is positive and the right line\n",
    "# is negative.\n",
    "hourglass_upper_half = line_left_positive & line_right_negative"
   ]
  },
  {
   "attachments": {},
   "cell_type": "markdown",
   "metadata": {},
   "source": [
    "Likewise, the lower half of the hourglass correpond to all the points where the signed distance to the left line is negative and the signed distance to the right line is positive."
   ]
  },
  {
   "cell_type": "code",
   "execution_count": null,
   "metadata": {},
   "outputs": [],
   "source": [
    "line_left_negative = line_left_sd <= 0\n",
    "line_right_positive = line_right_sd >= 0\n",
    "# The lower part of the hourglass is where the left line is negative and the right line\n",
    "# is positive.\n",
    "hourglass_lower_half = line_left_negative & line_right_positive"
   ]
  },
  {
   "cell_type": "code",
   "execution_count": null,
   "metadata": {},
   "outputs": [],
   "source": [
    "fig, ax = plt.subplots(ncols=2, figsize=(10, 5))\n",
    "im1 = ax[0].imshow(hourglass_upper_half.T, extent=scan.bounds, origin=\"lower\", cmap=\"gray\")\n",
    "im2 = ax[1].imshow(hourglass_lower_half.T, extent=scan.bounds, origin=\"lower\", cmap=\"gray\")\n",
    "plot_array_and_source(ax[0], array_left, array_right, source)\n",
    "plot_array_and_source(ax[1], array_left, array_right, source)\n",
    "ax[0].invert_yaxis()\n",
    "ax[1].invert_yaxis()\n",
    "ax[0].set_title(\"SDF(line_left) > 0 and SDF(line_right) < 0\")\n",
    "ax[1].set_title(\"SDF(line_left) < 0 and SDF(line_right) > 0\")\n",
    "fig.tight_layout()\n"
   ]
  },
  {
   "attachments": {},
   "cell_type": "markdown",
   "metadata": {},
   "source": [
    "This can be simplified as all the points where the sign of the SDF of the left line and the sign of the SDF of the right line are opposite. If we multiply the SDF of each together, then the result should be negative where the signs are opposite and positive where they have the same sign. Therefore, the hourglass can be defined as all the points where the product of the SDFs are negative."
   ]
  },
  {
   "cell_type": "code",
   "execution_count": null,
   "metadata": {},
   "outputs": [],
   "source": [
    "full_hourglass = (line_left_sd * line_right_sd) <= 0\n"
   ]
  },
  {
   "cell_type": "code",
   "execution_count": null,
   "metadata": {},
   "outputs": [],
   "source": [
    "plt.imshow(full_hourglass.T, extent=scan.bounds, origin=\"lower\", cmap=\"gray\")\n",
    "plot_array_and_source(plt, array_left, array_right, source)\n",
    "plt.gca().invert_yaxis()\n"
   ]
  },
  {
   "attachments": {},
   "cell_type": "markdown",
   "metadata": {},
   "source": [
    "Now we've got an hourglass apodization! Hurra!\n",
    "\n",
    "However, notice how it is very narrow around the source. This means that no pixels will be included in this area. We can fix this by defining another line that passes through the source, with a given thickness, and take the union of it and the hourglass.\n",
    "\n",
    "First, let's define the line. Then we calculate the distance to the line and mask all the points where the distance is less than or equal to a minimum width."
   ]
  },
  {
   "cell_type": "code",
   "execution_count": null,
   "metadata": {},
   "outputs": [],
   "source": [
    "# How wide the apodization should be around the source\n",
    "minimum_width = 0.5\n",
    "\n",
    "# We define the line as coming from the center of the array.\n",
    "# This is not correct (!), but bare with me for now.\n",
    "array_center = (array_left + array_right) / 2\n",
    "mid_line = Line.passing_through(array_center, source)\n",
    "mid_line_mask = np.abs(mid_line.signed_distance(points)) <= minimum_width/2"
   ]
  },
  {
   "cell_type": "code",
   "execution_count": null,
   "metadata": {},
   "outputs": [],
   "source": [
    "plt.imshow(mid_line_mask.T, extent=scan.bounds, origin=\"lower\", cmap=\"gray\")\n",
    "plot_array_and_source(plt, array_left, array_right, source)\n",
    "plt.gca().invert_yaxis()\n"
   ]
  },
  {
   "attachments": {},
   "cell_type": "markdown",
   "metadata": {},
   "source": [
    "Let's combine the hourglass with the mid line."
   ]
  },
  {
   "cell_type": "code",
   "execution_count": null,
   "metadata": {},
   "outputs": [],
   "source": [
    "hourglass_with_mid_line = full_hourglass | mid_line_mask"
   ]
  },
  {
   "cell_type": "code",
   "execution_count": null,
   "metadata": {},
   "outputs": [],
   "source": [
    "plt.imshow(hourglass_with_mid_line.T, extent=scan.bounds, origin=\"lower\", cmap=\"gray\")\n",
    "plot_array_and_source(plt, array_left, array_right, source)\n",
    "plt.gca().invert_yaxis()\n"
   ]
  },
  {
   "cell_type": "code",
   "execution_count": null,
   "metadata": {},
   "outputs": [],
   "source": [
    "def get_apodization(points, array_left, array_right, source, minimum_width):\n",
    "    line_left = Line.passing_through(array_left, source)\n",
    "    line_right = Line.passing_through(array_right, source)\n",
    "    mid_line = Line.passing_through(array_center, source)\n",
    "\n",
    "    line_left_sd = line_left.signed_distance(points)\n",
    "    line_right_sd = line_right.signed_distance(points)\n",
    "    hourglass = (line_left_sd * line_right_sd) <= 0\n",
    "    mid_line_mask = np.abs(mid_line.signed_distance(points)) <= minimum_width/2\n",
    "\n",
    "    return hourglass | mid_line_mask\n",
    "\n",
    "\n",
    "def plot_apodization(source_x, source_z, array_width, minimum_width):\n",
    "    array_left = np.array([-array_width / 2, 0])\n",
    "    array_right = np.array([array_width / 2, 0])\n",
    "    source = np.array([source_x, source_z])\n",
    "    apodization = get_apodization(\n",
    "        points, array_left, array_right, source, minimum_width\n",
    "    )\n",
    "    plt.imshow(apodization.T, extent=scan.bounds, origin=\"lower\", cmap=\"gray\")\n",
    "    plot_array_and_source(plt, array_left, array_right, source)\n",
    "    plt.gca().invert_yaxis()\n",
    "\n",
    "\n",
    "from ipywidgets import interact\n",
    "\n",
    "interact(\n",
    "    plot_apodization,\n",
    "    source_x=(-1.5, 1.5, 0.01),\n",
    "    source_z=(0.5, 3, 0.01),\n",
    "    array_width=(0.5, 3, 0.01),\n",
    "    minimum_width=(0.1, 1.0, 0.01),\n",
    ")\n"
   ]
  },
  {
   "attachments": {},
   "cell_type": "markdown",
   "metadata": {},
   "source": [
    "There is a subtle bug in the implementation of the mid line. The mid line is defined as passing through the center of the array and the source, but this makes it not line up with the hourglass direction. You can see that it looks a bit weird when the source is far to the side of the array; the mid line is angled differently from (and not centered on) the hourglass."
   ]
  },
  {
   "cell_type": "code",
   "execution_count": null,
   "metadata": {},
   "outputs": [],
   "source": [
    "plot_apodization(source_x=1, source_z=0.5, array_width=1.5, minimum_width=0.4)\n"
   ]
  },
  {
   "attachments": {},
   "cell_type": "markdown",
   "metadata": {},
   "source": [
    "The problem is that we're passing the mid line through the center of the array and not the center of the arc that represent the transmitted spherical wave. This is best understood if visualized, so run the next cell before continuing to read.\n",
    "\n",
    "The virtual source model models a spherical wave converging into a point: the source. But since we only have a finite array we can only simulate a part of it, so what we actually get is an arc that converges into the point. We need the mid line to pass through the center of this arc in order to have the same angle as the hourglass."
   ]
  },
  {
   "cell_type": "code",
   "execution_count": null,
   "metadata": {},
   "outputs": [],
   "source": [
    "from matplotlib import patches\n",
    "\n",
    "@interact(source_x=(-1.5, 1.5, 0.01), source_z=(0.2, 2.4, 0.01), array_width=(0.2, 3, 0.01))\n",
    "def plot_circle_mid(source_x=0.8, source_z=1, array_width=2):\n",
    "    # The code in this function is mostly just for plotting, so don't worry about it :)\n",
    "    source = np.array([source_x, source_z])\n",
    "    array_left = np.array([-array_width / 2, 0])\n",
    "    array_right = np.array([array_width / 2, 0])\n",
    "    plot_array_and_source(plt, array_left, array_right, source)\n",
    "\n",
    "    dist_from_source = np.linalg.norm(array_center - source)\n",
    "    angle_array_left = np.arctan2(array_left[1] - source[1], array_left[0] - source[0])\n",
    "    angle_array_right = np.arctan2(array_right[1] - source[1], array_right[0] - source[0])\n",
    "    avg_angle = (angle_array_left + angle_array_right) / 2\n",
    "\n",
    "    plt.plot([array_left[0], source[0]], [array_left[1], source[1]], \"--\", lw=0.5, color=\"blue\", alpha=0.5)\n",
    "    plt.plot([array_right[0], source[0]], [array_right[1], source[1]], \"--\", lw=0.5, color=\"blue\", alpha=0.5)\n",
    "    plt.plot([source[0], source[0] + dist_from_source * np.cos(avg_angle)], [source[1], source[1] + dist_from_source * np.sin(avg_angle)], lw=1, color=\"red\")\n",
    "    plt.plot([array_center[0], source[0]], [array_center[1], source[1]], lw=1, linestyle=\"--\", color=\"blue\")\n",
    "\n",
    "    circle = plt.Circle(source, dist_from_source, color=\"r\", fill=True, lw=0.5, alpha=0.1)\n",
    "    arc = patches.Arc(source, dist_from_source * 2, dist_from_source * 2, theta1=angle_array_left / np.pi * 180, theta2=angle_array_right / np.pi * 180, color=\"r\", linestyle=\"-\", lw=2)\n",
    "    plt.gca().add_patch(circle)\n",
    "    plt.gca().add_patch(arc)\n",
    "    plt.xlim([-2, 2])\n",
    "    plt.ylim([-0.5, 2.5])\n",
    "    plt.gca().invert_yaxis()\n",
    "    plt.gca().set_aspect(\"equal\")\n",
    "    plt.tight_layout()\n"
   ]
  },
  {
   "attachments": {},
   "cell_type": "markdown",
   "metadata": {},
   "source": [
    "Luckily, this is quite easy to do. We know the angle from the source to the left and the right side of the array. The middle point of the arc will be at the average angle of the two. Thus, we construct a line that passes through the source, and with direction vector corresponding to the average angle."
   ]
  },
  {
   "cell_type": "code",
   "execution_count": null,
   "metadata": {},
   "outputs": [],
   "source": [
    "angle_array_left = np.arctan2(array_left[1] - source[1], array_left[0] - source[0])\n",
    "angle_array_right = np.arctan2(array_right[1] - source[1], array_right[0] - source[0])\n",
    "avg_angle = (angle_array_left + angle_array_right) / 2\n",
    "\n",
    "mid_line_direction = np.array([np.cos(avg_angle), np.sin(avg_angle)])\n",
    "mid_line = Line(source, mid_line_direction)\n",
    "correct_mid_line_mask = np.abs(mid_line.signed_distance(points)) <= minimum_width/2"
   ]
  },
  {
   "attachments": {},
   "cell_type": "markdown",
   "metadata": {},
   "source": [
    "Let's plot the previous (incorrect) version of the mid line and the correct version side-by-side:"
   ]
  },
  {
   "cell_type": "code",
   "execution_count": null,
   "metadata": {},
   "outputs": [],
   "source": [
    "def get_apodization_correct(points, array_left, array_right, source, minimum_width):\n",
    "    line_left = Line.passing_through(array_left, source)\n",
    "    line_right = Line.passing_through(array_right, source)\n",
    "\n",
    "    angle_array_left = np.arctan2(array_left[1] - source[1], array_left[0] - source[0])\n",
    "    angle_array_right = np.arctan2(array_right[1] - source[1], array_right[0] - source[0])\n",
    "    avg_angle = (angle_array_left + angle_array_right) / 2\n",
    "    mid_line_direction = np.array([np.cos(avg_angle), np.sin(avg_angle)])\n",
    "    mid_line = Line(source, mid_line_direction)\n",
    "\n",
    "    line_left_sd = line_left.signed_distance(points)\n",
    "    line_right_sd = line_right.signed_distance(points)\n",
    "    hourglass = (line_left_sd * line_right_sd) <= 0\n",
    "    mid_line_mask = np.abs(mid_line.signed_distance(points)) <= minimum_width/2\n",
    "\n",
    "    return hourglass | mid_line_mask\n",
    "\n",
    "\n",
    "def plot_correct_apodization(source_x=1, source_z=0.5, array_width=2, minimum_width=0.5):\n",
    "    array_left = np.array([-array_width / 2, 0])\n",
    "    array_right = np.array([array_width / 2, 0])\n",
    "    source = np.array([source_x, source_z])\n",
    "    apodization1 = get_apodization(\n",
    "        points, array_left, array_right, source, minimum_width\n",
    "    )\n",
    "    apodization2 = get_apodization_correct(\n",
    "        points, array_left, array_right, source, minimum_width\n",
    "    )\n",
    "    fig, ax = plt.subplots(ncols=2, figsize=(10, 5))\n",
    "    ax[0].imshow(apodization1.T, extent=scan.bounds, origin=\"lower\", cmap=\"gray\")\n",
    "    ax[1].imshow(apodization2.T, extent=scan.bounds, origin=\"lower\", cmap=\"gray\")\n",
    "    plot_array_and_source(ax[0], array_left, array_right, source)\n",
    "    plot_array_and_source(ax[1], array_left, array_right, source)\n",
    "    ax[0].invert_yaxis()\n",
    "    ax[1].invert_yaxis()\n",
    "    ax[0].set_title(\"Incorrect mid line\")\n",
    "    ax[1].set_title(\"Correct mid line\")\n",
    "    fig.tight_layout()\n",
    "\n",
    "interact(\n",
    "    plot_correct_apodization,\n",
    "    source_x=(-1.5, 1.5, 0.01),\n",
    "    source_z=(0.5, 3, 0.01),\n",
    "    array_width=(0.5, 3, 0.01),\n",
    "    minimum_width=(0.1, 1.0, 0.01),\n",
    ")"
   ]
  },
  {
   "attachments": {},
   "cell_type": "markdown",
   "metadata": {},
   "source": [
    "# Aperture window\n",
    "There's one more aspect to the RTB apodization function that I have not mentioned: aperture windows. It is visualized in the cell below.\n",
    "\n",
    "To be continued... :)"
   ]
  },
  {
   "cell_type": "code",
   "execution_count": null,
   "metadata": {},
   "outputs": [],
   "source": [
    "from vbeam.apodization import Bartlett, Hamming, Rectangular, Tukey25, Tukey50, Tukey75\n",
    "\n",
    "\n",
    "def plot_correct_apodization(\n",
    "    window, source_x=1, source_z=0.5, array_width=2, minimum_width=0.5\n",
    "):\n",
    "    array_left = np.array([-array_width / 2, 0])\n",
    "    array_right = np.array([array_width / 2, 0])\n",
    "    source = np.array([source_x, source_z])\n",
    "    apodization = FocusedTransmitApodization(array_width, minimum_width, window)\n",
    "    wave_data = WaveData(np.array([source[0], 0, source[1]]))\n",
    "    apodization_values = calculate_apodization_for_spec(\n",
    "        apodization, sender, scan, receiver, wave_data, spec\n",
    "    )\n",
    "    plt.imshow(apodization_values.T, extent=scan.bounds, origin=\"lower\", cmap=\"gray\")\n",
    "    plot_array_and_source(plt, array_left, array_right, source)\n",
    "    plt.gca().invert_yaxis()\n",
    "    fig.tight_layout()\n",
    "\n",
    "\n",
    "interact(\n",
    "    plot_correct_apodization,\n",
    "    window=[\n",
    "        [\"Rectangular\", Rectangular()],\n",
    "        [\"Hamming\", Hamming()],\n",
    "        [\"Tukey25\", Tukey25()],\n",
    "        [\"Tukey50\", Tukey50()],\n",
    "        [\"Tukey75\", Tukey75()],\n",
    "        [\"Bartlett\", Bartlett()],\n",
    "    ],\n",
    "    source_x=(-1.5, 1.5, 0.01),\n",
    "    source_z=(0.5, 3, 0.01),\n",
    "    array_width=(0.5, 3, 0.01),\n",
    "    minimum_width=(0.1, 1.0, 0.01),\n",
    ")\n"
   ]
  }
 ],
 "metadata": {
  "kernelspec": {
   "display_name": "vbeam_magnusk",
   "language": "python",
   "name": "python3"
  },
  "language_info": {
   "codemirror_mode": {
    "name": "ipython",
    "version": 3
   },
   "file_extension": ".py",
   "mimetype": "text/x-python",
   "name": "python",
   "nbconvert_exporter": "python",
   "pygments_lexer": "ipython3",
   "version": "3.8.15"
  },
  "orig_nbformat": 4
 },
 "nbformat": 4,
 "nbformat_minor": 2
}
