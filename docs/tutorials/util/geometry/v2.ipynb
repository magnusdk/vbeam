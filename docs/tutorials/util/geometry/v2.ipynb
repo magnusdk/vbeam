{
 "cells": [
  {
   "attachments": {},
   "cell_type": "markdown",
   "metadata": {},
   "source": [
    "# `vbeam.util.geometry.v2` is a WIP module for working with geometry\n",
    "Expect some things to be broken and an inconsistent API."
   ]
  },
  {
   "attachments": {},
   "cell_type": "markdown",
   "metadata": {},
   "source": [
    "# Lines"
   ]
  },
  {
   "cell_type": "code",
   "execution_count": null,
   "metadata": {},
   "outputs": [],
   "source": [
    "import jax\n",
    "import jax.numpy as jnp\n",
    "import matplotlib.pyplot as plt\n",
    "\n",
    "from vbeam.util.geometry.v2 import Line\n",
    "\n",
    "# A line that goes through origo and has a slope of 1\n",
    "line = Line(jnp.array([0, 0]), jnp.array([1, 1]))\n",
    "\n",
    "# We can get points on the line by evaluating it with a parameter\n",
    "# Evaluating it at 0 gives the anchor point — in this case it's origo\n",
    "plt.scatter(*line(0), color=\"red\")\n",
    "# The distance from a point at line(t) to a point at line(t+1) is always 1, i.e. the\n",
    "# tangent is normalized.\n",
    "plt.scatter(*line(1), color=\"blue\")\n",
    "\n",
    "# We can also evaluate many points at once in order to plot the line\n",
    "t = jnp.linspace(-2, 2, 100)\n",
    "plt.plot(*line(t))\n",
    "\n",
    "# Note that lines extend infinitely, even though we only plot a segment of it below."
   ]
  },
  {
   "cell_type": "code",
   "execution_count": null,
   "metadata": {},
   "outputs": [],
   "source": [
    "line2 = Line(jnp.array([1, 0]), jnp.array([-1, 5]))\n",
    "\n",
    "# We can get the intersection of two lines\n",
    "num_intersections, intersections = line.intersect(line2)\n",
    "\n",
    "plt.title(f\"Number of intersections: {num_intersections}\")\n",
    "plt.plot(*line(t))\n",
    "plt.plot(*line2(t))\n",
    "plt.scatter(*intersections, color=\"red\")\n"
   ]
  },
  {
   "cell_type": "code",
   "execution_count": null,
   "metadata": {},
   "outputs": [],
   "source": [
    "# Lines that are parallel don't intersect\n",
    "line3 = Line(jnp.array([0, 1]), jnp.array([1,1]))\n",
    "num_intersections, intersections = line.intersect(line3)\n",
    "\n",
    "plt.title(f\"Number of intersections: {num_intersections}\")\n",
    "plt.plot(*line(t))\n",
    "plt.plot(*line3(t))\n",
    "plt.scatter(*intersections, color=\"red\")"
   ]
  },
  {
   "cell_type": "code",
   "execution_count": null,
   "metadata": {},
   "outputs": [],
   "source": [
    "# We can calculate the signed distance from a point to a line\n",
    "point1 = jnp.array([1, 1])\n",
    "point2 = jnp.array([-1, 0])\n",
    "distance1 = line.signed_distance(point1)\n",
    "distance2 = line.signed_distance(point2)\n",
    "fig, ax = plt.subplots(ncols=2, figsize=(10, 5))\n",
    "ax[0].set_title(f\"Distance from point {point1} to line: {distance1}\")\n",
    "ax[0].plot(*line(t))\n",
    "ax[0].scatter(*point1, color=\"red\")\n",
    "ax[1].set_title(f\"Distance from point {point2} to line: {distance2}\")\n",
    "ax[1].plot(*line(t))\n",
    "ax[1].scatter(*point2, color=\"red\")"
   ]
  },
  {
   "cell_type": "code",
   "execution_count": null,
   "metadata": {},
   "outputs": [],
   "source": [
    "# We can get the distances from all the points in a grid to the line\n",
    "grid = jnp.stack(jnp.meshgrid(jnp.linspace(-2, 2, 100), jnp.linspace(-2, 2, 100)), axis=-1)\n",
    "distances = line.signed_distance(grid)\n",
    "fig, ax = plt.subplots(ncols=3, figsize=(15, 5))\n",
    "im1 = ax[0].imshow(distances, origin=\"lower\", extent=(-2, 2, -2, 2))\n",
    "ax[0].set_title(\"Signed distance from grid points to line\")\n",
    "ax[0].plot(*line(t), color=\"red\")\n",
    "fig.colorbar(im1, ax=ax[0])\n",
    "\n",
    "# We can get just \"regular\" distances by taking the absolute value of the signed distances\n",
    "im2 = ax[1].imshow(jnp.abs(distances), origin=\"lower\", extent=(-2, 2, -2, 2))\n",
    "ax[1].set_title(\"Absolute distance from grid points to line\")\n",
    "ax[1].plot(*line(t), color=\"red\")\n",
    "fig.colorbar(im2, ax=ax[1])\n",
    "\n",
    "# We can also easily get a boolean mask of points that are within a certain distance from the line\n",
    "ax[2].imshow(jnp.abs(distances)<0.5, origin=\"lower\", extent=(-2, 2, -2, 2))\n",
    "ax[2].set_title(\"Points within 0.5 distance from line\")\n",
    "ax[2].plot(*line(t), color=\"red\")\n",
    "fig.tight_layout()"
   ]
  },
  {
   "cell_type": "code",
   "execution_count": null,
   "metadata": {},
   "outputs": [],
   "source": [
    "# Note the convention for the sign of the distance:\n",
    "# - It's POSITIVE if the point is on the \"right\" side of the line\n",
    "# - It's NEGATIVE if the point is on the \"left\" side of the line\n",
    "# with \"left\" and \"right\" being relative to the direction of the line. This particular \n",
    "# line points in the [1, 1] direction. If it pointed in the [-1, -1] direction instead,\n",
    "# the set of points defined by the line would be the same, but the sign of the distance\n",
    "# would be flipped.\n",
    "\n",
    "line = Line(jnp.array([0, 0]), jnp.array([1, 1]))\n",
    "flipped_line = Line(jnp.array([0, 0]), jnp.array([-1, -1]))\n",
    "flipped_line_distances = flipped_line.signed_distance(grid)\n",
    "fig, ax = plt.subplots(ncols=2, figsize=(10, 5))\n",
    "im1 = ax[0].imshow(distances, origin=\"lower\", extent=(-2, 2, -2, 2))\n",
    "ax[0].set_title(\n",
    "    f\"SDF of line pointing in\\nthe [{line.direction[0]:.1f}, {line.direction[1]:.1f}] direction\"\n",
    ")\n",
    "ax[0].plot(*line(t), color=\"red\")\n",
    "fig.colorbar(im1, ax=ax[0])\n",
    "im2 = ax[1].imshow(flipped_line_distances, origin=\"lower\", extent=(-2, 2, -2, 2))\n",
    "ax[1].set_title(\n",
    "    f\"SDF of line pointing in\\nthe [{flipped_line.direction[0]:.1f}, {flipped_line.direction[1]:.1f}] direction\"\n",
    ")\n",
    "ax[1].plot(*flipped_line(t), color=\"red\")\n",
    "fig.suptitle(\"Signed distance functions (SDF)\")\n",
    "fig.colorbar(im2, ax=ax[1])\n",
    "fig.tight_layout()\n"
   ]
  },
  {
   "cell_type": "code",
   "execution_count": null,
   "metadata": {},
   "outputs": [],
   "source": [
    "# The signed distance function is normalized, meaning that we get nice linear gradients.\n",
    "plt.imshow(jnp.cos(distances * jnp.pi * 4), origin=\"lower\", extent=(-2, 2, -2, 2))\n",
    "plt.plot(*line(t), color=\"red\")\n"
   ]
  },
  {
   "attachments": {},
   "cell_type": "markdown",
   "metadata": {},
   "source": [
    "# Circles"
   ]
  },
  {
   "cell_type": "code",
   "execution_count": null,
   "metadata": {},
   "outputs": [],
   "source": [
    "from vbeam.util.geometry.v2 import Circle\n",
    "\n",
    "# A unit circle centered at origo\n",
    "circle = Circle(jnp.array([0, 0]), 1)\n",
    "\n",
    "# A whole circle needs parameters in the range [0, 2*pi]\n",
    "t = jnp.linspace(0, 2*jnp.pi, 100)\n",
    "\n",
    "# Let's plot the circle and some points on it\n",
    "plt.plot(*circle(t))\n",
    "plt.scatter(*circle.center, color=\"red\")\n",
    "plt.scatter(*circle(0), color=\"blue\")\n",
    "plt.scatter(*circle(jnp.pi/2), color=\"green\")\n",
    "plt.legend([\"Circle\", \"Center\", \"Point at t=0\", \"Point at t=pi/2\"], loc=\"lower left\")\n",
    "plt.gca().set_aspect(\"equal\")\n",
    "\n"
   ]
  },
  {
   "cell_type": "code",
   "execution_count": null,
   "metadata": {},
   "outputs": [],
   "source": [
    "# Similar to how the distance from the point on a line at t=0 to one at t=1 is 1, the \n",
    "# arc-length distance between two points at t=0 and t=1 on a circle is also 1.\n",
    "plt.plot(*circle(t))\n",
    "plt.scatter(*circle.center, color=\"red\")\n",
    "plt.scatter(*circle(0), color=\"blue\")\n",
    "plt.scatter(*circle(1), color=\"green\")\n",
    "plt.title(\"The arc-length between circle(0) and circle(1) is 1\")\n",
    "plt.legend([\"Circle\", \"Center\", \"Point at t=0\", \"Point at t=1\"], loc=\"lower left\")\n",
    "plt.gca().set_aspect(\"equal\")\n",
    "\n"
   ]
  },
  {
   "cell_type": "code",
   "execution_count": null,
   "metadata": {},
   "outputs": [],
   "source": [
    "# As with lines, we can calculate the signed distance from a set of points to a circle\n",
    "# For circles, the boundary is always defined as going counter-clockwise, so the sign of\n",
    "# the signed distance is positive on the outside of the circle and negative on the \n",
    "# inside.\n",
    "grid = jnp.stack(jnp.meshgrid(jnp.linspace(-2, 2, 100), jnp.linspace(-2, 2, 100)), axis=-1)\n",
    "distances = circle.signed_distance(grid)\n",
    "fig, ax = plt.subplots(ncols=3, figsize=(15, 5))\n",
    "im1 = ax[0].imshow(distances, origin=\"lower\", extent=(-2, 2, -2, 2))\n",
    "ax[0].set_title(\"Signed distance to the circle\")\n",
    "ax[0].plot(*circle(t), color=\"red\")\n",
    "fig.colorbar(im1, ax=ax[0])\n",
    "\n",
    "# We can get just \"regular\" distances by taking the absolute value of the signed distances\n",
    "im2 = ax[1].imshow(jnp.abs(distances), origin=\"lower\", extent=(-2, 2, -2, 2))\n",
    "ax[1].set_title(\"Absolute distance to the circle\")\n",
    "ax[1].plot(*circle(t), color=\"red\")\n",
    "fig.colorbar(im2, ax=ax[1])\n",
    "\n",
    "# We can also easily get a boolean mask of points that are within a certain distance from the circle\n",
    "ax[2].imshow(jnp.abs(distances)<0.5, origin=\"lower\", extent=(-2, 2, -2, 2))\n",
    "ax[2].set_title(\"Points within 0.5 distance from the circle\")\n",
    "ax[2].plot(*circle(t), color=\"red\")\n",
    "fig.tight_layout()\n"
   ]
  },
  {
   "cell_type": "code",
   "execution_count": null,
   "metadata": {},
   "outputs": [],
   "source": [
    "# The signed distance function is normalized, meaning that we get nice linear gradients.\n",
    "plt.imshow(jnp.cos(distances * jnp.pi * 4), origin=\"lower\", extent=(-2, 2, -2, 2))\n",
    "plt.plot(*circle(t), color=\"red\")"
   ]
  },
  {
   "cell_type": "code",
   "execution_count": null,
   "metadata": {},
   "outputs": [],
   "source": [
    "fig, ax = plt.subplots(ncols=2, figsize=(10, 5))\n",
    "flattened_grid = grid[::5, ::5, :].reshape((20 * 20, 2))\n",
    "\n",
    "# By differentiating the absolute distance from the circle we get a vector field where\n",
    "# points are repelled away from the circle.\n",
    "absolute_distance = lambda *args: jnp.abs(circle.signed_distance(*args))\n",
    "repulsive_field = jax.vmap(jax.jacfwd(absolute_distance), out_axes=1)  # jacfwd = jacobian of forward pass\n",
    "ax[0].quiver(*flattened_grid.T, *repulsive_field(flattened_grid))\n",
    "ax[0].plot(*circle(t), color=\"red\")\n",
    "ax[0].set_title(\"Repulsive circle boundary\")\n",
    "\n",
    "# By differentiating the negative absolute distance from the circle we get a vector \n",
    "# field where points are attracted towards the circle.\n",
    "absolute_negative_distance = lambda *args: -jnp.abs(circle.signed_distance(*args))\n",
    "attractive_field = jax.vmap(jax.jacfwd(absolute_negative_distance), out_axes=1)  # jacfwd = jacobian of forward pass\n",
    "ax[1].quiver(*flattened_grid.T, *attractive_field(flattened_grid))\n",
    "ax[1].plot(*circle(t), color=\"red\")\n",
    "ax[1].set_title(\"Attractive circle boundary\")\n",
    "fig.tight_layout()\n"
   ]
  },
  {
   "cell_type": "code",
   "execution_count": null,
   "metadata": {},
   "outputs": [],
   "source": [
    "# By differentiating the curve itself we get its tangent\n",
    "tangent = jax.vmap(jax.jacfwd(circle), out_axes=1)  # jacfwd = jacobian of forward pass\n",
    "plt.plot(*circle(t))\n",
    "plt.quiver(*circle(t[::5]), *tangent(t[::5]), scale=5, color=\"red\")\n",
    "plt.legend([\"Circle\", \"Tangent\"], loc=\"lower left\")\n",
    "plt.gca().set_aspect(\"equal\")\n"
   ]
  },
  {
   "cell_type": "code",
   "execution_count": null,
   "metadata": {},
   "outputs": [],
   "source": [
    "# We can intersect lines and circles\n",
    "\n",
    "fig, ax = plt.subplots(ncols=3, figsize=(15, 5))\n",
    "for i, line in enumerate(\n",
    "    [\n",
    "        Line(jnp.array([0, 0]), jnp.array([1, 1])),\n",
    "        Line(jnp.array([-1, 0]), jnp.array([0, 1])),\n",
    "        Line(jnp.array([-1, 1]), jnp.array([1, 1])),\n",
    "    ]\n",
    "):\n",
    "    num_intersections, intersection_points = circle.intersect(line)\n",
    "    ax[i].plot(*circle(t))\n",
    "    ax[i].plot(*line(jnp.linspace(-1.5, 1.5)))\n",
    "    ax[i].scatter(*intersection_points.real, color=\"red\")\n",
    "    ax[i].set_title(f\"Line intersects circle at {num_intersections} points\")\n",
    "    ax[i].set_xlim([-2.5, 1.5])\n",
    "    ax[i].set_ylim([-1.8, 2.2])\n",
    "fig.tight_layout()\n"
   ]
  },
  {
   "attachments": {},
   "cell_type": "markdown",
   "metadata": {},
   "source": [
    "# Ellipses"
   ]
  },
  {
   "cell_type": "code",
   "execution_count": null,
   "metadata": {},
   "outputs": [],
   "source": [
    "from vbeam.util.geometry.v2 import Ellipse\n",
    "\n",
    "# Ellipses are defined by two focus points f1 and f2 and a summed distance d.\n",
    "# The points on the ellipse are the points where the distance from f1 and f2 to the \n",
    "# point sums to d.\n",
    "ellipse_d = 2.20\n",
    "ellipse = Ellipse(jnp.array([-1, 0]), jnp.array([1, 0]), ellipse_d)\n",
    "p = ellipse(1)\n",
    "f1_to_p_distance = jnp.linalg.norm(p - ellipse.f1)\n",
    "f2_to_p_distance = jnp.linalg.norm(p - ellipse.f2)\n",
    "plt.plot(*ellipse(t))\n",
    "plt.scatter(*ellipse.f1, color=\"red\")\n",
    "plt.scatter(*ellipse.f2, color=\"red\")\n",
    "plt.scatter(*p, color=\"blue\")\n",
    "plt.text(*(ellipse.f1+0.03), \"f1\", color=\"red\")\n",
    "plt.text(*(ellipse.f2+0.03), \"f2\", color=\"red\")\n",
    "plt.text(*(p+0.03), \"Point on ellipse\", color=\"blue\")\n",
    "plt.title(f\"Distance from f1 to point: {f1_to_p_distance:.2f}\\nDistance from f2 to point: {f2_to_p_distance:.2f}\\nSum: {f1_to_p_distance + f2_to_p_distance:.2f}\")\n",
    "plt.gca().set_aspect(\"equal\")"
   ]
  },
  {
   "cell_type": "code",
   "execution_count": null,
   "metadata": {},
   "outputs": [],
   "source": [
    "# We can intersect ellipses and lines\n",
    "fig, ax = plt.subplots(ncols=3, figsize=(15, 5))\n",
    "for i, line in enumerate(\n",
    "    [\n",
    "        Line(jnp.array([0, 0]), jnp.array([1, 1])),\n",
    "        Line(jnp.array([ellipse(jnp.pi)[0], 0]), jnp.array([0, 1])),\n",
    "        Line(jnp.array([0, 1]), jnp.array([1, 0])),\n",
    "    ]\n",
    "):\n",
    "    num_intersections, intersection_points = ellipse.intersect(line)\n",
    "    ax[i].plot(*ellipse(t))\n",
    "    ax[i].plot(*line(jnp.linspace(-1, 1)))\n",
    "    ax[i].scatter(*intersection_points.real, color=\"red\")\n",
    "    ax[i].set_title(f\"Line intersects ellipse at {num_intersections} points\")\n",
    "    ax[i].set_xlim([-1.5, 1.5])\n",
    "    ax[i].set_ylim([-1.5, 1.5])\n",
    "fig.tight_layout()\n"
   ]
  },
  {
   "attachments": {},
   "cell_type": "markdown",
   "metadata": {},
   "source": [
    "### *Ellipses are the least finished class of the three, so expect some things to be broken. In particular, ellipses are evaluated as transformed unit circles, which in turn means that the whole space is transformed. This breaks gradients and makes the tangent not be arc-length normalized.*"
   ]
  }
 ],
 "metadata": {
  "kernelspec": {
   "display_name": "vbeam_magnusk",
   "language": "python",
   "name": "python3"
  },
  "language_info": {
   "codemirror_mode": {
    "name": "ipython",
    "version": 3
   },
   "file_extension": ".py",
   "mimetype": "text/x-python",
   "name": "python",
   "nbconvert_exporter": "python",
   "pygments_lexer": "ipython3",
   "version": "3.8.15"
  },
  "orig_nbformat": 4,
  "vscode": {
   "interpreter": {
    "hash": "6c4250dae465aee4b6d69a64fe17fd966e6e25e24e55c1bfcae3c87f6496b0f5"
   }
  }
 },
 "nbformat": 4,
 "nbformat_minor": 2
}
